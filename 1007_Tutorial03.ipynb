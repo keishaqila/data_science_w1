{
  "nbformat": 4,
  "nbformat_minor": 0,
  "metadata": {
    "colab": {
      "provenance": [],
      "authorship_tag": "ABX9TyOLwM9PBQ5b/a9jp8dUpcxt",
      "include_colab_link": true
    },
    "kernelspec": {
      "name": "python3",
      "display_name": "Python 3"
    },
    "language_info": {
      "name": "python"
    }
  },
  "cells": [
    {
      "cell_type": "markdown",
      "metadata": {
        "id": "view-in-github",
        "colab_type": "text"
      },
      "source": [
        "<a href=\"https://colab.research.google.com/github/keishaqila/1007_data_science/blob/main/1007_Tutorial03.ipynb\" target=\"_parent\"><img src=\"https://colab.research.google.com/assets/colab-badge.svg\" alt=\"Open In Colab\"/></a>"
      ]
    },
    {
      "cell_type": "code",
      "execution_count": 2,
      "metadata": {
        "id": "3jenWtlSy6yw"
      },
      "outputs": [],
      "source": [
        "import numpy as np"
      ]
    },
    {
      "cell_type": "markdown",
      "source": [
        "1. Create a numpy array of size 2 x 2"
      ],
      "metadata": {
        "id": "D7AO0xmjvdbh"
      }
    },
    {
      "cell_type": "code",
      "source": [
        "arr2x2 = np.array([[1, 2],\n",
        "                 [3, 4]])\n",
        "print(\"Array 2x2:\\n\",arr2x2)"
      ],
      "metadata": {
        "colab": {
          "base_uri": "https://localhost:8080/"
        },
        "id": "U4qLJPuEzwu0",
        "outputId": "4ecaddc0-3cff-4199-e7b6-767da626e13e"
      },
      "execution_count": 11,
      "outputs": [
        {
          "output_type": "stream",
          "name": "stdout",
          "text": [
            "Array 2x2:\n",
            " [[1 2]\n",
            " [3 4]]\n"
          ]
        }
      ]
    },
    {
      "cell_type": "markdown",
      "source": [
        "2. Create a random numpy array of size 3 x 4"
      ],
      "metadata": {
        "id": "M3m3u1wYvhgM"
      }
    },
    {
      "cell_type": "code",
      "source": [
        "arr3x4 = np.random.rand(3,4)\n",
        "print(\"Array 3x4:\\n\",arr3x4)"
      ],
      "metadata": {
        "colab": {
          "base_uri": "https://localhost:8080/"
        },
        "id": "PYAcaSwfzyAk",
        "outputId": "0e713538-f110-4b94-b76e-f38855956192"
      },
      "execution_count": 10,
      "outputs": [
        {
          "output_type": "stream",
          "name": "stdout",
          "text": [
            "Array 3x4:\n",
            " [[0.22332326 0.45244173 0.47577371 0.98096265]\n",
            " [0.85518742 0.8482299  0.97480302 0.05940028]\n",
            " [0.77575577 0.33686006 0.36783121 0.53866405]]\n"
          ]
        }
      ]
    },
    {
      "cell_type": "markdown",
      "source": [
        "3. Create a numpy array of ones and a numpy array of zeroes"
      ],
      "metadata": {
        "id": "DtZWnWsIvkqC"
      }
    },
    {
      "cell_type": "code",
      "source": [
        "array_ones = np.ones((2, 2))\n",
        "array_zeros = np.zeros((2, 2))\n",
        "print(\"Array of Ones:\\n\", array_ones)\n",
        "print(\"Arry of Zeros:\\n\", array_zeros)"
      ],
      "metadata": {
        "colab": {
          "base_uri": "https://localhost:8080/"
        },
        "id": "wELlkerO0SvD",
        "outputId": "85ff3034-5277-4d9b-fcf7-c5b7449a5719"
      },
      "execution_count": 12,
      "outputs": [
        {
          "output_type": "stream",
          "name": "stdout",
          "text": [
            "Array of Ones:\n",
            " [[1. 1.]\n",
            " [1. 1.]]\n",
            "Arry of Zeros:\n",
            " [[0. 0.]\n",
            " [0. 0.]]\n"
          ]
        }
      ]
    },
    {
      "cell_type": "markdown",
      "source": [
        "4. Create a random numpy array of size 6x3 and transpose it"
      ],
      "metadata": {
        "id": "D-KawnsgwM9e"
      }
    },
    {
      "cell_type": "code",
      "source": [
        "arr6x3 = np.random.rand(6,3)\n",
        "print(\"Array 6x3:\\n\", arr6x3)\n",
        "transposed = np.transpose(arr6x3)\n",
        "print(\"Transposed (3x6):\\n\", transposed)"
      ],
      "metadata": {
        "colab": {
          "base_uri": "https://localhost:8080/"
        },
        "id": "5j3i4r7d0WXE",
        "outputId": "5628c2d4-abd5-43c7-8ab7-7949dae222ac"
      },
      "execution_count": 13,
      "outputs": [
        {
          "output_type": "stream",
          "name": "stdout",
          "text": [
            "Array 6x3:\n",
            " [[0.40242979 0.97670563 0.74191426]\n",
            " [0.26665179 0.98574645 0.72501271]\n",
            " [0.97966119 0.39579497 0.06073588]\n",
            " [0.26584156 0.84156652 0.36934758]\n",
            " [0.29865103 0.00337725 0.46008541]\n",
            " [0.98266259 0.03881618 0.70447373]]\n",
            "Transposed (3x6):\n",
            " [[0.40242979 0.26665179 0.97966119 0.26584156 0.29865103 0.98266259]\n",
            " [0.97670563 0.98574645 0.39579497 0.84156652 0.00337725 0.03881618]\n",
            " [0.74191426 0.72501271 0.06073588 0.36934758 0.46008541 0.70447373]]\n"
          ]
        }
      ]
    },
    {
      "cell_type": "markdown",
      "source": [
        "5. Create two random numpy array of size n x p and p x m and then compute the dot product"
      ],
      "metadata": {
        "id": "pVYzhOAywQfe"
      }
    },
    {
      "cell_type": "code",
      "source": [
        "n = 2\n",
        "p = 3\n",
        "m = 4\n",
        "\n",
        "A = np.random.rand(n, p)\n",
        "B = np.random.rand(p, m)\n",
        "\n",
        "dot_product = np.dot(A, B)\n",
        "print(\"Array A (2x3):\\n\", A)\n",
        "print(\"Array B (3x4):\\n\", B)\n",
        "print(\"Dot product (2x4):\\n\", dot_product)"
      ],
      "metadata": {
        "colab": {
          "base_uri": "https://localhost:8080/"
        },
        "id": "kWXQrTdC0qXg",
        "outputId": "4549f703-0359-44c9-df4b-8e1f5828a473"
      },
      "execution_count": 15,
      "outputs": [
        {
          "output_type": "stream",
          "name": "stdout",
          "text": [
            "Array A (2x3):\n",
            " [[0.14444185 0.03141786 0.25336926]\n",
            " [0.92816624 0.57668707 0.97138363]]\n",
            "Array B (3x4):\n",
            " [[0.42127422 0.21029352 0.64079317 0.59978486]\n",
            " [0.7144033  0.59222565 0.21460526 0.85015109]\n",
            " [0.03263946 0.33517896 0.23949277 0.63559917]]\n",
            "Dot product (2x4):\n",
            " [[0.09156449 0.13390569 0.15997989 0.27438525]\n",
            " [0.83470509 0.86230358 0.95116202 1.66438182]]\n"
          ]
        }
      ]
    }
  ]
}